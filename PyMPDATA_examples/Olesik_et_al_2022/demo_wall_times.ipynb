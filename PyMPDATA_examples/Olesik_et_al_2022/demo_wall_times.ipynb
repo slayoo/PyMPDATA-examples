{
 "cells": [
  {
   "cell_type": "markdown",
   "metadata": {},
   "source": [
    "[![Binder](https://mybinder.org/badge_logo.svg)](https://mybinder.org/v2/gh/atmos-cloud-sim-uj/PyMPDATA.git/master?filepath=PyMPDATA_examples/Olesik_et_al_2022/demo_wall_times.ipynb)    \n",
    "[![Open In Colab](https://colab.research.google.com/assets/colab-badge.svg)](https://colab.research.google.com/github/atmos-cloud-sim-uj/PyMPDATA/blob/master/PyMPDATA_examples/Olesik_et_al_2022/demo_wall_times.ipynb)"
   ]
  },
  {
   "cell_type": "code",
   "execution_count": 5,
   "metadata": {},
   "outputs": [],
   "source": [
    "import sys\n",
    "if 'google.colab' in sys.modules:\n",
    "    !pip --quiet install atmos-cloud-sim-uj-utils\n",
    "    from open_atmos_jupyter_utils import pip_install_on_colab\n",
    "    pip_install_on_colab('PyMPDATA-examples')"
   ]
  },
  {
   "cell_type": "code",
   "execution_count": 7,
   "metadata": {},
   "outputs": [],
   "source": [
    "from PyMPDATA_examples.Olesik_et_al_2022.wall_time import test_wall_time"
   ]
  },
  {
   "cell_type": "code",
   "execution_count": 10,
   "metadata": {},
   "outputs": [
    {
     "name": "stdout",
     "output_type": "stream",
     "text": [
      "\\begin{table}[]\n",
      "\\begin{tabular}{| l | l |}\n",
      "\\hline Variant  & Elapsed Real Time (wrt upwind) \\\\ \\hline\n",
      "\\hline {'n_iters': 1}(x_log_of_pn) & 1.0 \\\\ \\hline\n",
      "\\hline {'n_iters': 2}(x_log_of_pn) & 2.6 \\\\ \\hline\n",
      "\\hline {'n_iters': 2, 'infinite_gauge': True}(x_log_of_pn) & 2.3 \\\\ \\hline\n",
      "\\hline {'n_iters': 2, 'infinite_gauge': True, 'flux_corrected_transport': True}(x_log_of_pn) & 7.2 \\\\ \\hline\n",
      "\\hline {'n_iters': 2, 'DPDC': True, 'infinite_gauge': True, 'flux_corrected_transport': True}(x_log_of_pn) & 7.6 \\\\ \\hline\n",
      "\\hline {'n_iters': 3, 'third_order_terms': True}(x_log_of_pn) & 6.5 \\\\ \\hline\n",
      "\\hline {'n_iters': 3}(x_log_of_pn) & 4.2 \\\\ \\hline\n",
      "\\hline {'n_iters': 3, 'third_order_terms': True, 'infinite_gauge': True, 'flux_corrected_transport': True}(x_log_of_pn) & 13.2 \\\\ \\hline\n",
      "\\end{tabular} \n",
      " \\end{table}\n"
     ]
    }
   ],
   "source": [
    "test_wall_time(n_runs=2, mrats=[5,], generate=False, print_tab=True)"
   ]
  },
  {
   "cell_type": "code",
   "execution_count": null,
   "metadata": {},
   "outputs": [],
   "source": []
  }
 ],
 "metadata": {
  "kernelspec": {
   "display_name": "Python 3",
   "language": "python",
   "name": "python3"
  },
  "language_info": {
   "codemirror_mode": {
    "name": "ipython",
    "version": 3
   },
   "file_extension": ".py",
   "mimetype": "text/x-python",
   "name": "python",
   "nbconvert_exporter": "python",
   "pygments_lexer": "ipython3",
   "version": "3.8.2"
  }
 },
 "nbformat": 4,
 "nbformat_minor": 4
}
